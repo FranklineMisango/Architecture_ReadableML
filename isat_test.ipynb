{
 "cells": [
  {
   "cell_type": "code",
   "execution_count": 4,
   "metadata": {},
   "outputs": [],
   "source": [
    "import torch.nn as nn\n",
    "from torchvision.models.segmentation import deeplabv3_resnet101\n",
    "\n",
    "def prepare_model(num_classes=2):\n",
    "    model = deeplabv3_resnet101(weights='DEFAULT')\n",
    "    model.classifier[4] = nn.Conv2d(256, num_classes, 1)\n",
    "    model.aux_classifier[4] = nn.Conv2d(256, num_classes, 1)\n",
    "    return model"
   ]
  },
  {
   "cell_type": "code",
   "execution_count": null,
   "metadata": {},
   "outputs": [],
   "source": []
  }
 ],
 "metadata": {
  "kernelspec": {
   "display_name": "Python 3",
   "language": "python",
   "name": "python3"
  },
  "language_info": {
   "codemirror_mode": {
    "name": "ipython",
    "version": 3
   },
   "file_extension": ".py",
   "mimetype": "text/x-python",
   "name": "python",
   "nbconvert_exporter": "python",
   "pygments_lexer": "ipython3",
   "version": "3.11.8"
  }
 },
 "nbformat": 4,
 "nbformat_minor": 2
}
