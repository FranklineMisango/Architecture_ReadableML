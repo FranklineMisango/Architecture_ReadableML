{
 "cells": [
  {
   "cell_type": "code",
   "execution_count": 1,
   "metadata": {},
   "outputs": [],
   "source": [
    "import pandas as pd\n",
    "\n",
    "# Load JSON data\n",
    "with open('Test_Run_CRF/Json_generated/2020_Test.json', 'r') as f:\n",
    "    data = pd.read_json(f)\n",
    "\n",
    "# Convert JSON data to CSV\n",
    "data.to_csv('data.csv', index=False)\n"
   ]
  },
  {
   "cell_type": "code",
   "execution_count": 2,
   "metadata": {},
   "outputs": [
    {
     "data": {
      "text/html": [
       "<div>\n",
       "<style scoped>\n",
       "    .dataframe tbody tr th:only-of-type {\n",
       "        vertical-align: middle;\n",
       "    }\n",
       "\n",
       "    .dataframe tbody tr th {\n",
       "        vertical-align: top;\n",
       "    }\n",
       "\n",
       "    .dataframe thead th {\n",
       "        text-align: right;\n",
       "    }\n",
       "</style>\n",
       "<table border=\"1\" class=\"dataframe\">\n",
       "  <thead>\n",
       "    <tr style=\"text-align: right;\">\n",
       "      <th></th>\n",
       "      <th>predictions</th>\n",
       "    </tr>\n",
       "  </thead>\n",
       "  <tbody>\n",
       "    <tr>\n",
       "      <th>0</th>\n",
       "      <td>{'x': 75.5, 'y': 61, 'width': 57, 'height': 12...</td>\n",
       "    </tr>\n",
       "    <tr>\n",
       "      <th>1</th>\n",
       "      <td>{'x': 38.5, 'y': 172, 'width': 77, 'height': 3...</td>\n",
       "    </tr>\n",
       "    <tr>\n",
       "      <th>2</th>\n",
       "      <td>{'x': 49, 'y': 410.5, 'width': 90, 'height': 2...</td>\n",
       "    </tr>\n",
       "    <tr>\n",
       "      <th>3</th>\n",
       "      <td>{'x': 81, 'y': 164.5, 'width': 46, 'height': 2...</td>\n",
       "    </tr>\n",
       "    <tr>\n",
       "      <th>4</th>\n",
       "      <td>{'x': 20, 'y': 367.5, 'width': 16, 'height': 1...</td>\n",
       "    </tr>\n",
       "    <tr>\n",
       "      <th>5</th>\n",
       "      <td>{'x': 17, 'y': 378, 'width': 34, 'height': 34,...</td>\n",
       "    </tr>\n",
       "    <tr>\n",
       "      <th>6</th>\n",
       "      <td>{'x': 17, 'y': 346.5, 'width': 34, 'height': 2...</td>\n",
       "    </tr>\n",
       "    <tr>\n",
       "      <th>7</th>\n",
       "      <td>{'x': 14, 'y': 423, 'width': 26, 'height': 22,...</td>\n",
       "    </tr>\n",
       "    <tr>\n",
       "      <th>8</th>\n",
       "      <td>{'x': 19, 'y': 327.5, 'width': 30, 'height': 1...</td>\n",
       "    </tr>\n",
       "    <tr>\n",
       "      <th>9</th>\n",
       "      <td>{'x': 19.5, 'y': 465.5, 'width': 35, 'height':...</td>\n",
       "    </tr>\n",
       "    <tr>\n",
       "      <th>10</th>\n",
       "      <td>{'x': 13.5, 'y': 404, 'width': 27, 'height': 2...</td>\n",
       "    </tr>\n",
       "    <tr>\n",
       "      <th>11</th>\n",
       "      <td>{'x': 101.5, 'y': 393.5, 'width': 5, 'height':...</td>\n",
       "    </tr>\n",
       "  </tbody>\n",
       "</table>\n",
       "</div>"
      ],
      "text/plain": [
       "                                          predictions\n",
       "0   {'x': 75.5, 'y': 61, 'width': 57, 'height': 12...\n",
       "1   {'x': 38.5, 'y': 172, 'width': 77, 'height': 3...\n",
       "2   {'x': 49, 'y': 410.5, 'width': 90, 'height': 2...\n",
       "3   {'x': 81, 'y': 164.5, 'width': 46, 'height': 2...\n",
       "4   {'x': 20, 'y': 367.5, 'width': 16, 'height': 1...\n",
       "5   {'x': 17, 'y': 378, 'width': 34, 'height': 34,...\n",
       "6   {'x': 17, 'y': 346.5, 'width': 34, 'height': 2...\n",
       "7   {'x': 14, 'y': 423, 'width': 26, 'height': 22,...\n",
       "8   {'x': 19, 'y': 327.5, 'width': 30, 'height': 1...\n",
       "9   {'x': 19.5, 'y': 465.5, 'width': 35, 'height':...\n",
       "10  {'x': 13.5, 'y': 404, 'width': 27, 'height': 2...\n",
       "11  {'x': 101.5, 'y': 393.5, 'width': 5, 'height':..."
      ]
     },
     "execution_count": 2,
     "metadata": {},
     "output_type": "execute_result"
    }
   ],
   "source": [
    "pd.read_csv('data.csv')"
   ]
  },
  {
   "cell_type": "code",
   "execution_count": null,
   "metadata": {},
   "outputs": [],
   "source": []
  }
 ],
 "metadata": {
  "kernelspec": {
   "display_name": "Python 3",
   "language": "python",
   "name": "python3"
  },
  "language_info": {
   "codemirror_mode": {
    "name": "ipython",
    "version": 3
   },
   "file_extension": ".py",
   "mimetype": "text/x-python",
   "name": "python",
   "nbconvert_exporter": "python",
   "pygments_lexer": "ipython3",
   "version": "3.11.8"
  }
 },
 "nbformat": 4,
 "nbformat_minor": 2
}
